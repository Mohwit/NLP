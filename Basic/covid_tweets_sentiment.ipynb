{
 "cells": [
  {
   "cell_type": "markdown",
   "metadata": {},
   "source": [
    "# Public sentiments for COVID-19 tweets"
   ]
  },
  {
   "cell_type": "markdown",
   "metadata": {},
   "source": [
    "## Importing the required modules"
   ]
  },
  {
   "cell_type": "code",
   "execution_count": 47,
   "metadata": {},
   "outputs": [],
   "source": [
    "import os\n",
    "import re\n",
    "import random\n",
    "import string\n",
    "\n",
    "import pandas as pd\n",
    "import numpy as np\n",
    "import matplotlib.pyplot as plt\n",
    "\n",
    "from sklearn.model_selection import train_test_split\n",
    "from sklearn.linear_model import LogisticRegression"
   ]
  },
  {
   "cell_type": "code",
   "execution_count": 48,
   "metadata": {},
   "outputs": [
    {
     "name": "stderr",
     "output_type": "stream",
     "text": [
      "[nltk_data] Downloading package punkt to\n",
      "[nltk_data]     C:\\Users\\m7070\\AppData\\Roaming\\nltk_data...\n",
      "[nltk_data]   Package punkt is already up-to-date!\n"
     ]
    },
    {
     "data": {
      "text/plain": [
       "True"
      ]
     },
     "execution_count": 48,
     "metadata": {},
     "output_type": "execute_result"
    }
   ],
   "source": [
    "## setting nltk\n",
    "# ! pip install nltk\n",
    "import nltk\n",
    "nltk.download('punkt')\n"
   ]
  },
  {
   "cell_type": "code",
   "execution_count": 49,
   "metadata": {},
   "outputs": [],
   "source": [
    "## loading the data set\n",
    "## data file path\n",
    "data = \"/NLP/Basic/covid_tweets.csv\"\n",
    "## reading the data\n",
    "data = pd.read_csv(data)"
   ]
  },
  {
   "cell_type": "code",
   "execution_count": 50,
   "metadata": {},
   "outputs": [
    {
     "data": {
      "text/html": [
       "<div>\n",
       "<style scoped>\n",
       "    .dataframe tbody tr th:only-of-type {\n",
       "        vertical-align: middle;\n",
       "    }\n",
       "\n",
       "    .dataframe tbody tr th {\n",
       "        vertical-align: top;\n",
       "    }\n",
       "\n",
       "    .dataframe thead th {\n",
       "        text-align: right;\n",
       "    }\n",
       "</style>\n",
       "<table border=\"1\" class=\"dataframe\">\n",
       "  <thead>\n",
       "    <tr style=\"text-align: right;\">\n",
       "      <th></th>\n",
       "      <th>UserName</th>\n",
       "      <th>ScreenName</th>\n",
       "      <th>Location</th>\n",
       "      <th>TweetAt</th>\n",
       "      <th>OriginalTweet</th>\n",
       "      <th>Sentiment</th>\n",
       "    </tr>\n",
       "  </thead>\n",
       "  <tbody>\n",
       "    <tr>\n",
       "      <th>0</th>\n",
       "      <td>1</td>\n",
       "      <td>44953</td>\n",
       "      <td>NYC</td>\n",
       "      <td>02-03-2020</td>\n",
       "      <td>TRENDING: New Yorkers encounter empty supermar...</td>\n",
       "      <td>Extremely Negative</td>\n",
       "    </tr>\n",
       "    <tr>\n",
       "      <th>1</th>\n",
       "      <td>2</td>\n",
       "      <td>44954</td>\n",
       "      <td>Seattle, WA</td>\n",
       "      <td>02-03-2020</td>\n",
       "      <td>When I couldn't find hand sanitizer at Fred Me...</td>\n",
       "      <td>Positive</td>\n",
       "    </tr>\n",
       "    <tr>\n",
       "      <th>2</th>\n",
       "      <td>3</td>\n",
       "      <td>44955</td>\n",
       "      <td>NaN</td>\n",
       "      <td>02-03-2020</td>\n",
       "      <td>Find out how you can protect yourself and love...</td>\n",
       "      <td>Extremely Positive</td>\n",
       "    </tr>\n",
       "    <tr>\n",
       "      <th>3</th>\n",
       "      <td>4</td>\n",
       "      <td>44956</td>\n",
       "      <td>Chicagoland</td>\n",
       "      <td>02-03-2020</td>\n",
       "      <td>#Panic buying hits #NewYork City as anxious sh...</td>\n",
       "      <td>Negative</td>\n",
       "    </tr>\n",
       "    <tr>\n",
       "      <th>4</th>\n",
       "      <td>5</td>\n",
       "      <td>44957</td>\n",
       "      <td>Melbourne, Victoria</td>\n",
       "      <td>03-03-2020</td>\n",
       "      <td>#toiletpaper #dunnypaper #coronavirus #coronav...</td>\n",
       "      <td>Neutral</td>\n",
       "    </tr>\n",
       "  </tbody>\n",
       "</table>\n",
       "</div>"
      ],
      "text/plain": [
       "   UserName  ScreenName             Location     TweetAt  \\\n",
       "0         1       44953                  NYC  02-03-2020   \n",
       "1         2       44954          Seattle, WA  02-03-2020   \n",
       "2         3       44955                  NaN  02-03-2020   \n",
       "3         4       44956          Chicagoland  02-03-2020   \n",
       "4         5       44957  Melbourne, Victoria  03-03-2020   \n",
       "\n",
       "                                       OriginalTweet           Sentiment  \n",
       "0  TRENDING: New Yorkers encounter empty supermar...  Extremely Negative  \n",
       "1  When I couldn't find hand sanitizer at Fred Me...            Positive  \n",
       "2  Find out how you can protect yourself and love...  Extremely Positive  \n",
       "3  #Panic buying hits #NewYork City as anxious sh...            Negative  \n",
       "4  #toiletpaper #dunnypaper #coronavirus #coronav...             Neutral  "
      ]
     },
     "execution_count": 50,
     "metadata": {},
     "output_type": "execute_result"
    }
   ],
   "source": [
    "data.head()"
   ]
  },
  {
   "cell_type": "code",
   "execution_count": 51,
   "metadata": {},
   "outputs": [
    {
     "data": {
      "text/plain": [
       "array(['Extremely Negative', 'Positive', 'Extremely Positive', 'Negative',\n",
       "       'Neutral'], dtype=object)"
      ]
     },
     "execution_count": 51,
     "metadata": {},
     "output_type": "execute_result"
    }
   ],
   "source": [
    "data['Sentiment'].unique()"
   ]
  },
  {
   "cell_type": "code",
   "execution_count": 52,
   "metadata": {},
   "outputs": [
    {
     "name": "stdout",
     "output_type": "stream",
     "text": [
      "The labels in the data are ['Extremely Negative' 'Positive' 'Extremely Positive' 'Negative' 'Neutral']\n",
      "The count of each label is Sentiment\n",
      "Negative              1041\n",
      "Positive               947\n",
      "Neutral                619\n",
      "Extremely Positive     599\n",
      "Extremely Negative     592\n",
      "Name: count, dtype: int64\n"
     ]
    },
    {
     "data": {
      "image/png": "[encoded data removed]",
      "text/plain": [
       "<Figure size 500x500 with 1 Axes>"
      ]
     },
     "metadata": {},
     "output_type": "display_data"
    }
   ],
   "source": [
    "## tweets disterbution\n",
    "def pie_chart(dataframe):\n",
    "    ## labels\n",
    "    labels = dataframe['Sentiment'].unique().astype(str)\n",
    "    print(f\"The labels in the data are {labels}\")\n",
    "    \n",
    "    ## label count\n",
    "    label_counts = dataframe['Sentiment'].value_counts()\n",
    "    print(f\"The count of each label is {label_counts}\")\n",
    "    \n",
    "    sizes = [count for count in label_counts]\n",
    "    \n",
    "    ## plotting the pie chart\n",
    "    fig = plt.figure(figsize=(5,5))\n",
    "    \n",
    "    plt.pie(sizes, labels=labels, autopct='%1.2f%%', shadow=True, startangle=90)\n",
    "    \n",
    "    plt.axis('equal')\n",
    "    \n",
    "    plt.show()\n",
    "    \n",
    "                              \n",
    "pie_chart(data)"
   ]
  },
  {
   "cell_type": "code",
   "execution_count": 53,
   "metadata": {},
   "outputs": [],
   "source": [
    "## Seperating positive and negative tweets\n",
    "positive_tweets = list(data[data['Sentiment'] == \"Positive\"]['OriginalTweet'].astype(str))\n",
    "negative_tweets = list(data[data['Sentiment'] == \"Negative\"]['OriginalTweet'].astype(str))"
   ]
  },
  {
   "cell_type": "code",
   "execution_count": 54,
   "metadata": {},
   "outputs": [
    {
     "name": "stdout",
     "output_type": "stream",
     "text": [
      "Size of training data: 1589\n",
      "Size of testing data: 399\n"
     ]
    }
   ],
   "source": [
    "## splitting the data into train and test\n",
    "positive_train, positive_test = train_test_split(positive_tweets, test_size=0.2, random_state=42)\n",
    "negative_train, negative_test = train_test_split(negative_tweets, test_size=0.2, random_state=42)\n",
    "\n",
    "## print sizes\n",
    "print(f\"Size of training data: {len(positive_train) + len(negative_train)}\")\n",
    "print(f\"Size of testing data: {len(positive_test) + len(negative_test)}\")"
   ]
  },
  {
   "cell_type": "code",
   "execution_count": 55,
   "metadata": {},
   "outputs": [
    {
     "name": "stdout",
     "output_type": "stream",
     "text": [
      "\u001b[92mPostivite tweets are in green:\n",
      "\u001b[92m@SadhguruJV Saar, @SriSri Sir @yogrishiramdev ji \n",
      "I am looking for some gyaan please. You guys have spoken on Economy, Value of Indian rupees Vs US Dollar, Petrol prices, Politics, Social issues. \n",
      "Anything on #CoronavirusPandemic\n",
      "#CoronaOutbreak \n",
      "\n"
     ]
    }
   ],
   "source": [
    "print('\\033[92m' + 'Postivite tweets are in green:')\n",
    "print('\\033[92m' + f'{positive_tweets[random.randint(0, 947)]}')"
   ]
  },
  {
   "cell_type": "code",
   "execution_count": 56,
   "metadata": {},
   "outputs": [
    {
     "name": "stdout",
     "output_type": "stream",
     "text": [
      "\u001b[91mNegative tweets are in red:\n",
      "\u001b[91mIn USA people are stabbing each other over the last package of water bottles in the grocery store. In Australia there is a shortage of toilet paper. In Fiji? The chili sauce isle is empty #coronavirus\n"
     ]
    }
   ],
   "source": [
    "print('\\033[91m' +  'Negative tweets are in red:')\n",
    "print('\\033[91m' + f'{negative_tweets[random.randint(0, 947)]}')"
   ]
  },
  {
   "cell_type": "markdown",
   "metadata": {},
   "source": [
    "## Tokenizing the tweets"
   ]
  },
  {
   "cell_type": "code",
   "execution_count": 57,
   "metadata": {},
   "outputs": [
    {
     "name": "stdout",
     "output_type": "stream",
     "text": [
      "['Consumers', 'have', 'increased', 'their', 'online', 'shopping', 'due', 'to', 'coronavirus.', 'https://t.co/5mYfz3RAD0', '#retail', '#ecommerce', '#study', '#coronavirus', 'https://t.co/Dz3H6zrWUT']\n"
     ]
    }
   ],
   "source": [
    "## splitting the tweets into words\n",
    "tweet = positive_tweets[12]\n",
    "words = tweet.split()\n",
    "print(words)"
   ]
  },
  {
   "cell_type": "code",
   "execution_count": 58,
   "metadata": {},
   "outputs": [
    {
     "name": "stdout",
     "output_type": "stream",
     "text": [
      "['Consumers', 'have', 'increased', 'their', 'online', 'shopping', 'due', 'to', 'coronavirus', 'https', 't', 'co', '5mYfz3RAD0', 'retail', 'ecommerce', 'study', 'coronavirus', 'https', 't', 'co', 'Dz3H6zrWUT']\n"
     ]
    }
   ],
   "source": [
    "## removing punctuations\n",
    "## seperating punctuations (getting words)\n",
    "tokens = re.split(r'\\W+', tweet)\n",
    "print(tokens)"
   ]
  },
  {
   "cell_type": "code",
   "execution_count": 59,
   "metadata": {},
   "outputs": [
    {
     "name": "stdout",
     "output_type": "stream",
     "text": [
      "['Consumers', 'have', 'increased', 'their', 'online', 'shopping', 'due', 'to', 'coronavirus', '.', 'https', ':', '//t.co/5mYfz3RAD0', '#', 'retail', '#', 'ecommerce', '#', 'study', '#', 'coronavirus', 'https', ':', '//t.co/Dz3H6zrWUT']\n"
     ]
    }
   ],
   "source": [
    "## Tokenizing using nltk\n",
    "from nltk import word_tokenize\n",
    "tokens = word_tokenize(tweet)\n",
    "print(tokens)"
   ]
  },
  {
   "cell_type": "code",
   "execution_count": 60,
   "metadata": {},
   "outputs": [
    {
     "name": "stdout",
     "output_type": "stream",
     "text": [
      "Using normal split: ['Consumers have increased their online shopping due to coronavirus', 'https://t.co/5mYfz3RAD0 #retail #ecommerce #study #coronavirus https://t.co/Dz3H6zrWUT']\n",
      "Using regex split: ['Consumers have increased their online shopping due to coronavirus', 'https://t.co/5mYfz3RAD0 #retail #ecommerce #study #coronavirus https://t.co/Dz3H6zrWUT']\n"
     ]
    }
   ],
   "source": [
    "## Sentence tokenization\n",
    "splits= tweet.split('. ')\n",
    "print(f\"Using normal split: {splits}\")\n",
    "\n",
    "sentence_splits = re.compile('[.!?] ').split(tweet)\n",
    "print(f\"Using regex split: {sentence_splits}\")"
   ]
  },
  {
   "cell_type": "code",
   "execution_count": 61,
   "metadata": {},
   "outputs": [
    {
     "name": "stdout",
     "output_type": "stream",
     "text": [
      "Using nltk: ['Consumers have increased their online shopping due to coronavirus.', 'https://t.co/5mYfz3RAD0 #retail #ecommerce #study #coronavirus https://t.co/Dz3H6zrWUT']\n"
     ]
    }
   ],
   "source": [
    "## nltk sentence tokenization\n",
    "from nltk import sent_tokenize\n",
    "sentence_tokens = sent_tokenize(tweet)\n",
    "print(f\"Using nltk: {sentence_tokens}\")"
   ]
  },
  {
   "cell_type": "code",
   "execution_count": 62,
   "metadata": {},
   "outputs": [
    {
     "name": "stdout",
     "output_type": "stream",
     "text": [
      "Consumers have increased their online shopping due to coronavirus.  retail ecommerce study coronavirus \n"
     ]
    }
   ],
   "source": [
    "## removing hyperlinks and hashtags\n",
    "tweet2 = re.sub(r'RT[\\s]+', '', tweet)\n",
    "tweet2= re.sub(r'https?://[^\\s\\n\\r]+', '', tweet2)\n",
    "tweet2 = re.sub(r'#', '', tweet2)\n",
    "print(tweet2)"
   ]
  },
  {
   "cell_type": "markdown",
   "metadata": {},
   "source": [
    "## Reducing dataset size"
   ]
  },
  {
   "cell_type": "code",
   "execution_count": 63,
   "metadata": {},
   "outputs": [],
   "source": [
    "from nltk.corpus import stopwords ## for english stopwords\n",
    "from nltk.corpus import twitter_samples ## sample twitter dataset from nltk\n",
    "from nltk.stem import PorterStemmer ## for stemming\n",
    "from nltk.tokenize import TweetTokenizer"
   ]
  },
  {
   "cell_type": "code",
   "execution_count": 64,
   "metadata": {},
   "outputs": [
    {
     "data": {
      "text/plain": [
       "'Hi all! Please support your local Chinese Restaurant &amp; order some delicious food from them ? They are really struggling with the #COVID2019 panic, many are having to let staff go.\\r\\r\\n\\r\\r\\nMy favs in #Manchester are @sweetmandarin &amp; @blueeyedpandam4\\r\\r\\nThank you! ??\\r\\r\\n\\r\\r\\n#iwilleatwithyou https://t.co/jpDHxQMBTv'"
      ]
     },
     "execution_count": 64,
     "metadata": {},
     "output_type": "execute_result"
    }
   ],
   "source": [
    "tweet = positive_tweets[15]\n",
    "tweet"
   ]
  },
  {
   "cell_type": "markdown",
   "metadata": {},
   "source": [
    "## Tokenizer"
   ]
  },
  {
   "cell_type": "code",
   "execution_count": 65,
   "metadata": {},
   "outputs": [
    {
     "name": "stdout",
     "output_type": "stream",
     "text": [
      "Tokenized string: ['hi', 'all', '!', 'please', 'support', 'your', 'local', 'chinese', 'restaurant', '&', 'order', 'some', 'delicious', 'food', 'from', 'them', '?', 'they', 'are', 'really', 'struggling', 'with', 'the', '#covid2019', 'panic', ',', 'many', 'are', 'having', 'to', 'let', 'staff', 'go', '.', 'my', 'favs', 'in', '#manchester', 'are', '&', 'thank', 'you', '!', '?', '?', '#iwilleatwithyou', 'https://t.co/jpDHxQMBTv']\n"
     ]
    }
   ],
   "source": [
    "## Tokenizing the tweet\n",
    "tokenizer = TweetTokenizer(preserve_case=False, strip_handles=True, reduce_len=True)\n",
    "\n",
    "tweet_tokens = tokenizer.tokenize(tweet)\n",
    "\n",
    "print(f\"Tokenized string: {tweet_tokens}\")"
   ]
  },
  {
   "cell_type": "code",
   "execution_count": 66,
   "metadata": {},
   "outputs": [
    {
     "name": "stdout",
     "output_type": "stream",
     "text": [
      "Cleaned tweet: ['hi', 'please', 'support', 'local', 'chinese', 'restaurant', 'order', 'delicious', 'food', 'really', 'struggling', '#covid2019', 'panic', 'many', 'let', 'staff', 'go', 'favs', '#manchester', 'thank', '#iwilleatwithyou', 'https://t.co/jpDHxQMBTv']\n"
     ]
    },
    {
     "name": "stderr",
     "output_type": "stream",
     "text": [
      "[nltk_data] Downloading package stopwords to\n",
      "[nltk_data]     C:\\Users\\m7070\\AppData\\Roaming\\nltk_data...\n",
      "[nltk_data]   Package stopwords is already up-to-date!\n"
     ]
    }
   ],
   "source": [
    "nltk.download('stopwords')\n",
    "\n",
    "stopwords_english = stopwords.words('english')\n",
    "\n",
    "punctuations = string.punctuation\n",
    "\n",
    "clean_tweet = []\n",
    "\n",
    "for word in tweet_tokens:\n",
    "    if (word not in stopwords_english and word not in punctuations):\n",
    "        clean_tweet.append(word)\n",
    "\n",
    "print(f\"Cleaned tweet: {clean_tweet}\")"
   ]
  },
  {
   "cell_type": "markdown",
   "metadata": {},
   "source": [
    "## Stemming and lemmitization"
   ]
  },
  {
   "cell_type": "code",
   "execution_count": 67,
   "metadata": {},
   "outputs": [],
   "source": [
    "def process_tweets(tweet):\n",
    "    stemmer = PorterStemmer()\n",
    "    stopwords_english = stopwords.words('english')\n",
    "    punctuations = string.punctuation\n",
    "    tweet = re.sub(r'\\$\\w*', '', tweet) ## removing stock market tickers\n",
    "    tweet = re.sub(r'^RT[\\s]+', '', tweet) ## removing old style retweet text\n",
    "    tweet = re.sub(r'https?://[^\\s\\n\\r]+', '', tweet) ## removing hyperlinks\n",
    "    tweet = re.sub(r'#', '', tweet) ## removing hashtags\n",
    "    \n",
    "    ## Tokenizing the tweet\n",
    "    tokenizer = TweetTokenizer(preserve_case=False, strip_handles=True, reduce_len=True)\n",
    "    tweet_tokens = tokenizer.tokenize(tweet)\n",
    "    \n",
    "    ## removing stopwords and punctuations\n",
    "    tweets_clean = []\n",
    "    \n",
    "    for tweet in tweet_tokens:\n",
    "        if (tweet not in stopwords_english and tweet not in punctuations):\n",
    "            stem_word = stemmer.stem(tweet)\n",
    "            tweets_clean.append(stem_word)\n",
    "    \n",
    "    return tweets_clean"
   ]
  },
  {
   "cell_type": "code",
   "execution_count": 68,
   "metadata": {},
   "outputs": [
    {
     "name": "stdout",
     "output_type": "stream",
     "text": [
      "Original tweet: Well, its time to stock up on cat food. #coronavirus #quarantine #pandemic https://t.co/uhfmQPZWAt\n",
      "Processed tweet: ['well', '\\x92', 'time', 'stock', 'cat', 'food', 'coronaviru', 'quarantin', 'pandem']\n"
     ]
    }
   ],
   "source": [
    "tweet = positive_tweets[35]\n",
    "\n",
    "tweet_step = process_tweets(tweet)\n",
    "\n",
    "print(f\"Original tweet: {tweet}\")\n",
    "print(f\"Processed tweet: {tweet_step}\")"
   ]
  },
  {
   "cell_type": "markdown",
   "metadata": {},
   "source": [
    "## Training the model"
   ]
  },
  {
   "cell_type": "code",
   "execution_count": 69,
   "metadata": {},
   "outputs": [],
   "source": [
    "## word frequency dictionary\n",
    "\n",
    "def build_frq(tweets, ys):\n",
    "    ## labels of sentiments (1, 0)\n",
    "    yslist = np.squeeze(ys).tolist()\n",
    "    \n",
    "    ## dictionary of words and their frequencies\n",
    "    frq = {}\n",
    "    \n",
    "    ## looping over tweets and labels\n",
    "    for y, tweet in zip(yslist, tweets):\n",
    "        for word in process_tweets(tweet):\n",
    "            pair = (word, y)\n",
    "            if pair in frq:\n",
    "                frq[pair] += 1\n",
    "            else:\n",
    "                frq[pair] = 1\n",
    "    \n",
    "    return frq"
   ]
  },
  {
   "cell_type": "code",
   "execution_count": 70,
   "metadata": {},
   "outputs": [],
   "source": [
    "training_tweets = positive_train + negative_train"
   ]
  },
  {
   "cell_type": "code",
   "execution_count": 71,
   "metadata": {},
   "outputs": [],
   "source": [
    "labels = np.append(np.ones((len(positive_train), 1)), np.zeros((len(negative_train), 1)), axis=0)"
   ]
  },
  {
   "cell_type": "code",
   "execution_count": 72,
   "metadata": {},
   "outputs": [
    {
     "data": {
      "text/plain": [
       "array([[1.],\n",
       "       [1.],\n",
       "       [1.],\n",
       "       ...,\n",
       "       [0.],\n",
       "       [0.],\n",
       "       [0.]])"
      ]
     },
     "execution_count": 72,
     "metadata": {},
     "output_type": "execute_result"
    }
   ],
   "source": [
    "labels"
   ]
  },
  {
   "cell_type": "code",
   "execution_count": 73,
   "metadata": {},
   "outputs": [],
   "source": [
    "## Create frquency dictionary\n",
    "frqs = build_frq(training_tweets, labels)"
   ]
  },
  {
   "cell_type": "code",
   "execution_count": 74,
   "metadata": {},
   "outputs": [],
   "source": [
    "## testing the function\n",
    "keys = ['void', 'commun', 'spirit', 'stop', 'merit', 'nice', 'good', 'bad', 'mad', 'best', 'pretti', ':)',':(', 'song', 'idea', 'power', 'play']"
   ]
  },
  {
   "cell_type": "code",
   "execution_count": 75,
   "metadata": {},
   "outputs": [],
   "source": [
    "data = []\n",
    "\n",
    "## loop through each word\n",
    "for word in keys:\n",
    "    \n",
    "    # initialize positive and negative counts\n",
    "    pos = 0\n",
    "    neg = 0\n",
    "    \n",
    "    ## retrieve number of positive counts\n",
    "    if (word, 1) in frqs:\n",
    "        pos = frqs[(word, 1)]\n",
    "        \n",
    "    if (word, 0) in frqs:\n",
    "        neg = frqs[(word, 0)]\n",
    "        \n",
    "    data.append([word, pos, neg])"
   ]
  },
  {
   "cell_type": "code",
   "execution_count": 76,
   "metadata": {},
   "outputs": [
    {
     "data": {
      "text/plain": [
       "[['void', 1, 0],\n",
       " ['commun', 15, 11],\n",
       " ['spirit', 1, 1],\n",
       " ['stop', 14, 28],\n",
       " ['merit', 0, 0],\n",
       " ['nice', 6, 5],\n",
       " ['good', 49, 28],\n",
       " ['bad', 1, 9],\n",
       " ['mad', 2, 8],\n",
       " ['best', 7, 3],\n",
       " ['pretti', 6, 4],\n",
       " [':)', 1, 1],\n",
       " [':(', 3, 0],\n",
       " ['song', 2, 0],\n",
       " ['idea', 6, 7],\n",
       " ['power', 5, 0],\n",
       " ['play', 8, 1]]"
      ]
     },
     "execution_count": 76,
     "metadata": {},
     "output_type": "execute_result"
    }
   ],
   "source": [
    "data"
   ]
  },
  {
   "cell_type": "code",
   "execution_count": 77,
   "metadata": {},
   "outputs": [
    {
     "data": {
      "image/png": "[encoded data removed]",
      "text/plain": [
       "<Figure size 800x800 with 1 Axes>"
      ]
     },
     "metadata": {},
     "output_type": "display_data"
    }
   ],
   "source": [
    "fig, ax = plt.subplots(figsize=(8, 8))\n",
    "\n",
    "# convert positive raw counts to logarithmic scale. we add 1 to avoid log(0)\n",
    "x = np.log([x[1] + 1 for x in data])\n",
    "\n",
    "# do the same for the negative counts\n",
    "y = np.log([x[2] + 1 for x in data])\n",
    "\n",
    "# plot a dot for each pair of words\n",
    "ax.scatter(x, y)\n",
    "\n",
    "# assign axis labels\n",
    "plt.xlabel(\"Log Positive count\")\n",
    "plt.ylabel(\"Log Negative count\")\n",
    "\n",
    "# Add the word as the label at the same position as you added the points just before\n",
    "for i in range (0, len(data)):\n",
    "    ax.annotate(data[i][0], (x[i], y[i]), fontsize=12)\n",
    "    \n",
    "ax.plot([0,9], [0, 9], color = 'brown')\n",
    "plt.show()"
   ]
  },
  {
   "cell_type": "markdown",
   "metadata": {},
   "source": [
    "## Extracting features function"
   ]
  },
  {
   "cell_type": "code",
   "execution_count": 78,
   "metadata": {},
   "outputs": [],
   "source": [
    "def extract_features(tweet, freqs):\n",
    "    \n",
    "    # process_tweet tokenizes, stems, and removes stopwords\n",
    "    word_l = process_tweets(tweet)\n",
    "    \n",
    "    # 3 elements in the form of a 1 x 3 vector\n",
    "    x = np.zeros((1, 3))\n",
    "    \n",
    "    ## bias term is set to 1\n",
    "    x[0,0] = 1\n",
    "    \n",
    "    ## loop through each word in the list of words\n",
    "    for word in word_l:\n",
    "        \n",
    "        ## increment the word count for the positive label 1\n",
    "        x[0,1] += freqs.get((word, 1.0), 0)\n",
    "        \n",
    "        ## increment the word count for the negative label 0\n",
    "        x[0,2] += freqs.get((word, 0.0), 0)  \n",
    "    \n",
    "    assert(x.shape == (1, 3))\n",
    "    \n",
    "    return x"
   ]
  },
  {
   "cell_type": "markdown",
   "metadata": {},
   "source": [
    "## Feature extraction"
   ]
  },
  {
   "cell_type": "code",
   "execution_count": 79,
   "metadata": {},
   "outputs": [
    {
     "name": "stdout",
     "output_type": "stream",
     "text": [
      "[[1.000e+00 2.284e+03 2.568e+03]]\n"
     ]
    }
   ],
   "source": [
    "train_x = training_tweets\n",
    "temp1 = extract_features(train_x[0], frqs)\n",
    "print(temp1)"
   ]
  },
  {
   "cell_type": "markdown",
   "metadata": {},
   "source": [
    "## Feature extraction for a random string"
   ]
  },
  {
   "cell_type": "code",
   "execution_count": 80,
   "metadata": {},
   "outputs": [
    {
     "name": "stdout",
     "output_type": "stream",
     "text": [
      "[[ 1. 11.  3.]]\n"
     ]
    }
   ],
   "source": [
    "temp2 = extract_features('This batch is the best batch.', frqs)\n",
    "print(temp2)"
   ]
  },
  {
   "cell_type": "markdown",
   "metadata": {},
   "source": [
    "## Preparing training data"
   ]
  },
  {
   "cell_type": "code",
   "execution_count": 81,
   "metadata": {},
   "outputs": [],
   "source": [
    "# collect the features 'x' and stack them into a matrix 'X'\n",
    "X = np.zeros((len(train_x), 3))\n",
    "\n",
    "for i in range(len(train_x)):\n",
    "    X[i, :]= extract_features(train_x[i], frqs)\n",
    "\n",
    "# training labels corresponding to X\n",
    "train_y = np.append(np.ones((len(positive_train), 1)), np.zeros((len(negative_train), 1)), axis=0)\n",
    "Y = np.ravel(train_y, order='C')"
   ]
  },
  {
   "cell_type": "markdown",
   "metadata": {},
   "source": [
    "## Using the most basic model to classify the tweets"
   ]
  },
  {
   "cell_type": "code",
   "execution_count": 83,
   "metadata": {},
   "outputs": [
    {
     "name": "stdout",
     "output_type": "stream",
     "text": [
      "Training accuracy: 0.7004405286343612\n"
     ]
    }
   ],
   "source": [
    "from sklearn.linear_model import LogisticRegression\n",
    "clf = LogisticRegression(random_state=0).fit(X, Y)\n",
    "\n",
    "print(f\"Training accuracy: {clf.score(X, Y)}\")"
   ]
  },
  {
   "cell_type": "code",
   "execution_count": 84,
   "metadata": {},
   "outputs": [
    {
     "name": "stdout",
     "output_type": "stream",
     "text": [
      "Test accuracy: 0.5764411027568922\n"
     ]
    }
   ],
   "source": [
    "## Check performance on the test set\n",
    "testing_tweets = positive_test + negative_test\n",
    "\n",
    "test_x = np.zeros((len(testing_tweets), 3))\n",
    "\n",
    "for i in range(len(testing_tweets)):\n",
    "    test_x[i, :]= extract_features(testing_tweets[i], frqs)\n",
    "\n",
    "## training labels corresponding to X\n",
    "test_y = np.append(np.ones((len(positive_test), 1)), np.zeros((len(negative_test), 1)), axis=0)\n",
    "test_y = np.ravel(test_y, order='C')\n",
    "\n",
    "print(f\"Test accuracy: {clf.score(test_x, test_y)}\")"
   ]
  },
  {
   "cell_type": "markdown",
   "metadata": {},
   "source": [
    "## Predict whether a tweet is positive or negative"
   ]
  },
  {
   "cell_type": "code",
   "execution_count": 85,
   "metadata": {},
   "outputs": [],
   "source": [
    "def predict_tweet(tweet, freqs):\n",
    "    \n",
    "    ## extracting features\n",
    "    x = extract_features(tweet, freqs)\n",
    "    \n",
    "    ## making prediction\n",
    "    y_pred = clf.predict(x)\n",
    "    \n",
    "    return y_pred"
   ]
  },
  {
   "cell_type": "code",
   "execution_count": 86,
   "metadata": {},
   "outputs": [
    {
     "name": "stdout",
     "output_type": "stream",
     "text": [
      "Tweet: Thank god corona is over! \n",
      "Sentiment: [1.]\n",
      "\n",
      "Tweet: This is seriously ridiculous. Stop boarding \n",
      "Sentiment: [0.]\n",
      "\n",
      "Tweet: Panic buying is pushing beyond the need to secure essentials. \n",
      "Sentiment: [0.]\n",
      "\n",
      "Tweet: The stock market is crashing and the world is in a panic. \n",
      "Sentiment: [0.]\n",
      "\n",
      "Tweet: Thank you to all the nurses and doctors working tirelessly to help those affected by the coronavirus. \n",
      "Sentiment: [1.]\n",
      "\n"
     ]
    }
   ],
   "source": [
    "## testing the function\n",
    "testing_tweet = [\n",
    "            'Thank god corona is over!',\n",
    "            'This is seriously ridiculous. Stop boarding',\n",
    "            'Panic buying is pushing beyond the need to secure essentials.',\n",
    "            'The stock market is crashing and the world is in a panic.',\n",
    "            'Thank you to all the nurses and doctors working tirelessly to help those affected by the coronavirus.'\n",
    "        ]\n",
    "\n",
    "for tweet in testing_tweet:\n",
    "    sentiment = predict_tweet(tweet, frqs)\n",
    "    \n",
    "    print(f\"Tweet: {tweet} \\nSentiment: {sentiment}\\n\")\n",
    "    "
   ]
  },
  {
   "cell_type": "markdown",
   "metadata": {},
   "source": [
    "## Conclusion\n",
    "- Lemmatization is not enough.\n",
    "- Adding BoW with Logistic Regression will imporove the result significantly. "
   ]
  }
 ],
 "metadata": {
  "kernelspec": {
   "display_name": "base",
   "language": "python",
   "name": "python3"
  },
  "language_info": {
   "codemirror_mode": {
    "name": "ipython",
    "version": 3
   },
   "file_extension": ".py",
   "mimetype": "text/x-python",
   "name": "python",
   "nbconvert_exporter": "python",
   "pygments_lexer": "ipython3",
   "version": "3.11.3"
  },
  "orig_nbformat": 4
 },
 "nbformat": 4,
 "nbformat_minor": 2
}
